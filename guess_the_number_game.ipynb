{
 "cells": [
  {
   "cell_type": "markdown",
   "metadata": {},
   "source": [
    "# Guess the number game - (ulterior)"
   ]
  },
  {
   "cell_type": "code",
   "execution_count": 4,
   "metadata": {},
   "outputs": [
    {
     "name": "stdout",
     "output_type": "stream",
     "text": [
      "Guess the number game\n",
      "hello welcome to python fun world!\n",
      "may i know your name please? aditya\n",
      "so, aditya, do we start? (Enter Yes/No) yes\n",
      "score = 0 not attempt done atleast one's\n",
      "guess a number between 10 and 100 99\n",
      "It's lower\n",
      "guess a number between 10 and 100 11\n",
      "It's higher\n",
      "guess a number between 10 and 100 50\n",
      "It's higher\n",
      "guess a number between 10 and 100 75\n",
      "It's higher\n",
      "guess a number between 10 and 100 85\n",
      "It's higher\n",
      "guess a number between 10 and 100 90\n",
      "It's lower\n",
      "guess a number between 10 and 100 88\n",
      "It's lower\n",
      "guess a number between 10 and 100 86\n",
      "Nice! You got it!\n",
      "It took you [8] attempts\n",
      "Would you like to play again? (Enter Yes/No) no\n",
      "The current high score is 8 attempts\n",
      "That's cool, have a good one!\n"
     ]
    }
   ],
   "source": [
    "print(\"Guess the number game\")\n",
    "import random\n",
    "history = []\n",
    "def accuracy():\n",
    "    if len(history) <= 0:\n",
    "        print(\"score = 0 not attempt done atleast one's\")\n",
    "    else:\n",
    "        print(\"The current high score is {} attempts\".format(min(history)))\n",
    "def start_game():\n",
    "    random_number = int(random.randint(10, 100))\n",
    "    print(\"hello welcome to python fun world!\")\n",
    "    p_name = input(\"may i know your name please? \")\n",
    "    condition = input(\"so, {}, do we start? (Enter Yes/No) \".format(p_name))\n",
    "    \n",
    "    h_done = 0\n",
    "    accuracy()\n",
    "    while condition.lower() == \"yes\":\n",
    "        try:\n",
    "            guess = input(\"guess a number between 10 and 100 \")\n",
    "            if int(guess) < 10 or int(guess) > 100:\n",
    "                raise ValueError(\"Please guess a number within the given range\")\n",
    "            if int(guess) == random_number:\n",
    "                print(\"Nice! You got it!\")\n",
    "                h_done += 1\n",
    "                history.append(h_done)\n",
    "                print(\"It took you {} attempts\".format(history))\n",
    "                play_again = input(\"Would you like to play again? (Enter Yes/No) \")\n",
    "                h_done = 0\n",
    "                accuracy()\n",
    "                random_number = int(random.randint(10, 100))\n",
    "                if play_again.lower() == \"no\":\n",
    "                    print(\"That's cool, have a good one!\")\n",
    "                    break\n",
    "            elif int(guess) > random_number:\n",
    "                print(\"It's lower\")\n",
    "                h_done += 1\n",
    "            elif int(guess) < random_number:\n",
    "                print(\"It's higher\")\n",
    "                h_done += 1\n",
    "        except ValueError as err:\n",
    "            print(\"so sry! next try please.\")\n",
    "            print(\"({})\".format(err))\n",
    "    else:\n",
    "        print(\"That's cool, have a good one!\")\n",
    "if __name__ == '__main__':\n",
    "    start_game()"
   ]
  },
  {
   "cell_type": "code",
   "execution_count": null,
   "metadata": {},
   "outputs": [],
   "source": []
  }
 ],
 "metadata": {
  "kernelspec": {
   "display_name": "Python 3",
   "language": "python",
   "name": "python3"
  },
  "language_info": {
   "codemirror_mode": {
    "name": "ipython",
    "version": 3
   },
   "file_extension": ".py",
   "mimetype": "text/x-python",
   "name": "python",
   "nbconvert_exporter": "python",
   "pygments_lexer": "ipython3",
   "version": "3.8.3"
  }
 },
 "nbformat": 4,
 "nbformat_minor": 4
}
